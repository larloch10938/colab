{
  "nbformat": 4,
  "nbformat_minor": 0,
  "metadata": {
    "colab": {
      "name": "convert a number into words.ipynb",
      "provenance": [],
      "authorship_tag": "ABX9TyNCoeStGD2IOeCC14yGhTL4",
      "include_colab_link": true
    },
    "kernelspec": {
      "name": "python3",
      "display_name": "Python 3"
    },
    "language_info": {
      "name": "python"
    }
  },
  "cells": [
    {
      "cell_type": "markdown",
      "metadata": {
        "id": "view-in-github",
        "colab_type": "text"
      },
      "source": [
        "<a href=\"https://colab.research.google.com/github/lich070192/colab/blob/main/convert_a_number_into_words.ipynb\" target=\"_parent\"><img src=\"https://colab.research.google.com/assets/colab-badge.svg\" alt=\"Open In Colab\"/></a>"
      ]
    },
    {
      "cell_type": "code",
      "metadata": {
        "colab": {
          "base_uri": "https://localhost:8080/"
        },
        "id": "gn3_rSLjGBsl",
        "outputId": "1517a500-1c32-4043-bdfa-2f21c81ac2ff"
      },
      "source": [
        "!pip install num2words"
      ],
      "execution_count": null,
      "outputs": [
        {
          "output_type": "stream",
          "text": [
            "Collecting num2words\n",
            "\u001b[?25l  Downloading https://files.pythonhosted.org/packages/eb/a2/ea800689730732e27711c41beed4b2a129b34974435bdc450377ec407738/num2words-0.5.10-py3-none-any.whl (101kB)\n",
            "\r\u001b[K     |███▎                            | 10kB 10.6MB/s eta 0:00:01\r\u001b[K     |██████▌                         | 20kB 16.9MB/s eta 0:00:01\r\u001b[K     |█████████▊                      | 30kB 21.9MB/s eta 0:00:01\r\u001b[K     |█████████████                   | 40kB 19.1MB/s eta 0:00:01\r\u001b[K     |████████████████▏               | 51kB 13.1MB/s eta 0:00:01\r\u001b[K     |███████████████████▍            | 61kB 14.5MB/s eta 0:00:01\r\u001b[K     |██████████████████████▋         | 71kB 12.1MB/s eta 0:00:01\r\u001b[K     |█████████████████████████▉      | 81kB 13.0MB/s eta 0:00:01\r\u001b[K     |█████████████████████████████   | 92kB 11.9MB/s eta 0:00:01\r\u001b[K     |████████████████████████████████| 102kB 5.1MB/s \n",
            "\u001b[?25hRequirement already satisfied: docopt>=0.6.2 in /usr/local/lib/python3.7/dist-packages (from num2words) (0.6.2)\n",
            "Installing collected packages: num2words\n",
            "Successfully installed num2words-0.5.10\n"
          ],
          "name": "stdout"
        }
      ]
    },
    {
      "cell_type": "code",
      "metadata": {
        "id": "XaHypCzFGGnp"
      },
      "source": [
        "# I am importing the library to have a strong example to use, but I still use my implemented solution below\n",
        "from num2words import num2words"
      ],
      "execution_count": null,
      "outputs": []
    },
    {
      "cell_type": "code",
      "metadata": {
        "id": "ErUR2tT3TAno"
      },
      "source": [
        "small_num_list = ['Zero', 'One', 'Two', 'Three', 'Four', 'Five', 'Six', 'Seven', 'Eight', 'Nine', 'Ten', \\\n",
        "            'Eleven', 'Twelve', 'Thirteen', 'Fourteen', 'Fifteen', 'Sixteen', 'Seventeen', 'Eighteen', 'Nineteen']\n",
        "two_digits_num_list = ['Twenty', 'Thirty', 'Forty', 'Fifty', 'Sixty', 'Seventy', 'Eighty', 'Ninety']\n",
        "\n",
        "# the function is not very clean, there is a cleaner solution, probably building the number from the bottom up might work\n",
        "def word_number(number):\n",
        "    if 0 <= number <= 19:\n",
        "        return(small_num_list[number])\n",
        "    elif 20 <= number <= 99:\n",
        "        tens, remainder = divmod(number, 10)\n",
        "        return(two_digits_num_list[tens - 2] + '-' + small_num_list[remainder] if remainder else two_digits_num_list[tens - 2])\n",
        "    elif 100 <= number <= 999:\n",
        "        hund, remainder = divmod(number, 100)\n",
        "        tens, remainder = divmod(remainder, 10)\n",
        "        return(small_num_list[hund] + ' hundred and ' + two_digits_num_list[tens - 2] + '-' + small_num_list[remainder] if remainder else two_digits_num_list[tens - 2])\n",
        "    elif 1000 <= number <= 999999:\n",
        "        return(word_number(number // 1000) + ' thousand, ' + word_number(number % 1000))\n",
        "    elif 999999 <= number <= 999999999:\n",
        "        return(word_number(number // 1000000) + ' milion, ' + word_number(number % 1000000))\n",
        "    elif 999999999 <= number <= 999999999999:\n",
        "        return(word_number(number // 1000000000) + ' bilion, ' + word_number(number % 1000000000))\n",
        "    elif 999999999999 <= number <= 999999999999999:\n",
        "        return(word_number(number // 1000000000000) + ' trilion, ' + word_number(number % 1000000000000))\n",
        "    else:\n",
        "        return('number invalid')"
      ],
      "execution_count": 45,
      "outputs": []
    },
    {
      "cell_type": "code",
      "metadata": {
        "id": "fBY2eSIeH4q5"
      },
      "source": [
        "def sentence_number_to_word(sentence):\n",
        "    value_list = [int(s) for s in sentence.split() if s.isdigit()]\n",
        "    result = [word_number(value) for value in value_list]\n",
        "    return(result)"
      ],
      "execution_count": 50,
      "outputs": []
    },
    {
      "cell_type": "markdown",
      "metadata": {
        "id": "W_d4vNeAipXJ"
      },
      "source": [
        "I worked on colab so I couldn't easly read from a file. Moreover I didn't create a test file. This would be dependent on the env ia m working on, but my approach would be similar: read the data, tranform it into a list and pass it to the below function."
      ]
    },
    {
      "cell_type": "code",
      "metadata": {
        "id": "hM1gCKkLHkLV"
      },
      "source": [
        "sentence_list = [\"The pump is 536 deep underground.\", \"We processed 9121 records.\", \"Variables reported as having a missing type #65678.\", \"Interactive and printable 10022 ZIP code\", \"The database has 66723107008 records.\", \"I received 23 456,9 KGs.\"]"
      ],
      "execution_count": 51,
      "outputs": []
    },
    {
      "cell_type": "markdown",
      "metadata": {
        "id": "S1fjLNs6hTm6"
      },
      "source": [
        "I am not really sure what the logic should be for the last example. We need to use spaces to identify numbers fromm different words, a logic to implement might be to check if there is a word containing some numbers next to each other. There would still be vulnerabilites. For example the sentence \"The size of the house was huge, more than 1000 m^2\" would raise an error as well."
      ]
    },
    {
      "cell_type": "code",
      "metadata": {
        "colab": {
          "base_uri": "https://localhost:8080/"
        },
        "id": "JZsDkAJKIwOj",
        "outputId": "caeeb9c1-1f6e-4aca-d3e8-66bdc26fdc10"
      },
      "source": [
        "for sentence in sentence_list:\n",
        "    print(sentence)\n",
        "    print()\n",
        "    number_list = sentence_number_to_word(sentence)\n",
        "    # implement logic based on length of list 0 - 1 - 2\n",
        "    print(number_list)\n",
        "    print(\"~~~\")"
      ],
      "execution_count": 52,
      "outputs": [
        {
          "output_type": "stream",
          "text": [
            "The pump is 536 deep underground.\n",
            "\n",
            "['Five hundred and Thirty-Six']\n",
            "~~~\n",
            "We processed 9121 records.\n",
            "\n",
            "['Nine thousand, One hundred and Twenty-One']\n",
            "~~~\n",
            "Variables reported as having a missing type #65678.\n",
            "\n",
            "[]\n",
            "~~~\n",
            "Interactive and printable 10022 ZIP code\n",
            "\n",
            "['Ten thousand, Twenty-Two']\n",
            "~~~\n",
            "The database has 66723107008 records.\n",
            "\n",
            "['Sixty-Six bilion, Seven hundred and Twenty-Three milion, One hundred and Eighty-Seven thousand, Eight']\n",
            "~~~\n",
            "I received 23 456,9 KGs.\n",
            "\n",
            "['Twenty-Three']\n",
            "~~~\n"
          ],
          "name": "stdout"
        }
      ]
    },
    {
      "cell_type": "markdown",
      "metadata": {
        "id": "Vrvqsbifibsj"
      },
      "source": [
        "I am not handling negative numbers. I am also not sure what the output should be, so I am just printing it on screen."
      ]
    }
  ]
}